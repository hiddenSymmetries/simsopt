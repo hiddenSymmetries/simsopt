{
 "cells": [
  {
   "cell_type": "markdown",
   "metadata": {},
   "source": [
    "# Example of using simsopt to optimize curve objects\n",
    "\n",
    "This notebook demonstrates a silly little example of optimizing a curve using simsopt. We start with a curve that has random Fourier coefficients for $R(\\phi)$ and $Z(\\phi)$, where $(R, \\phi, Z)$ are cylindrical coordinates. We minimize the length of the curve, keeping the 0-frequency Fourier mode of $R$ fixed. The result should be a circle."
   ]
  },
  {
   "cell_type": "code",
   "execution_count": 1,
   "metadata": {},
   "outputs": [],
   "source": [
    "import numpy as np\n",
    "from simsopt.geo.curverzfourier import CurveRZFourier\n",
    "from simsopt.geo.curveobjectives import CurveLength\n",
    "from simsopt import LeastSquaresProblem\n",
    "from simsopt import least_squares_serial_solve"
   ]
  },
  {
   "cell_type": "markdown",
   "metadata": {},
   "source": [
    "Initialize the curve:"
   ]
  },
  {
   "cell_type": "code",
   "execution_count": 2,
   "metadata": {},
   "outputs": [],
   "source": [
    "nquadrature = 100\n",
    "nfourier = 4\n",
    "nfp = 5\n",
    "curve = CurveRZFourier(nquadrature, nfourier, nfp, True)"
   ]
  },
  {
   "cell_type": "markdown",
   "metadata": {},
   "source": [
    "Initialize the Fourier coefficients to random numbers. The first coefficient is the average major radius, so set it to a positive number."
   ]
  },
  {
   "cell_type": "code",
   "execution_count": 3,
   "metadata": {},
   "outputs": [
    {
     "name": "stdout",
     "output_type": "stream",
     "text": [
      "Initial curve dofs:  [ 3.          0.28502471  0.29757522  0.01220562 -0.31103223  0.02554628\n",
      " -0.03307268 -0.17245829 -0.12146519]\n"
     ]
    }
   ],
   "source": [
    "x0 = np.random.rand(curve.num_dofs()) - 0.5\n",
    "x0[0] = 3.0\n",
    "curve.set_dofs(x0)\n",
    "print('Initial curve dofs: ', curve.get_dofs())"
   ]
  },
  {
   "cell_type": "markdown",
   "metadata": {},
   "source": [
    "Tell the curve object that the first Fourier mode is fixed, whereas all the other dofs are not."
   ]
  },
  {
   "cell_type": "code",
   "execution_count": 4,
   "metadata": {},
   "outputs": [],
   "source": [
    "curve.all_fixed(False)\n",
    "curve.fixed[0] = True"
   ]
  },
  {
   "cell_type": "markdown",
   "metadata": {},
   "source": [
    "The length objective is a separate object rather than as a function of Curve itself, so we must create this 2nd object. This results in python importing Jax, which usually gives a warning that no GPU/TPU is found - you can ignore this."
   ]
  },
  {
   "cell_type": "code",
   "execution_count": 5,
   "metadata": {},
   "outputs": [
    {
     "name": "stderr",
     "output_type": "stream",
     "text": [
      "WARNING:absl:No GPU/TPU found, falling back to CPU. (Set TF_CPP_MIN_LOG_LEVEL=0 and rerun for more info.)\n"
     ]
    },
    {
     "name": "stdout",
     "output_type": "stream",
     "text": [
      "Initial curve length:  37.72142781143831\n"
     ]
    }
   ],
   "source": [
    "obj = CurveLength(curve)\n",
    "print('Initial curve length: ', obj.J())"
   ]
  },
  {
   "cell_type": "markdown",
   "metadata": {},
   "source": [
    "Create a term in the least-squares objective function, $1.0 * (length - 0.0)^2$:"
   ]
  },
  {
   "cell_type": "code",
   "execution_count": 6,
   "metadata": {},
   "outputs": [],
   "source": [
    "term1 = (obj, 0.0, 1.0)"
   ]
  },
  {
   "cell_type": "markdown",
   "metadata": {},
   "source": [
    "Put this term into a least-squares problem object:"
   ]
  },
  {
   "cell_type": "code",
   "execution_count": 7,
   "metadata": {},
   "outputs": [],
   "source": [
    "prob = LeastSquaresProblem([term1])"
   ]
  },
  {
   "cell_type": "markdown",
   "metadata": {},
   "source": [
    "Simsopt recognizes that derivative information is available:"
   ]
  },
  {
   "cell_type": "code",
   "execution_count": 8,
   "metadata": {},
   "outputs": [
    {
     "data": {
      "text/plain": [
       "True"
      ]
     },
     "execution_count": 8,
     "metadata": {},
     "output_type": "execute_result"
    }
   ],
   "source": [
    "prob.dofs.grad_avail"
   ]
  },
  {
   "cell_type": "markdown",
   "metadata": {},
   "source": [
    "Let's view the initial global state vector. It should contain all the initial Fourier modes except the first:"
   ]
  },
  {
   "cell_type": "code",
   "execution_count": 9,
   "metadata": {},
   "outputs": [
    {
     "data": {
      "text/plain": [
       "array([ 0.28502471,  0.29757522,  0.01220562, -0.31103223,  0.02554628,\n",
       "       -0.03307268, -0.17245829, -0.12146519])"
      ]
     },
     "execution_count": 9,
     "metadata": {},
     "output_type": "execute_result"
    }
   ],
   "source": [
    "prob.x"
   ]
  },
  {
   "cell_type": "markdown",
   "metadata": {},
   "source": [
    "Solve the minimization problem:"
   ]
  },
  {
   "cell_type": "code",
   "execution_count": 10,
   "metadata": {},
   "outputs": [
    {
     "name": "stdout",
     "output_type": "stream",
     "text": [
      "Using derivatives\n",
      "   Iteration     Total nfev        Cost      Cost reduction    Step norm     Optimality   \n",
      "       0              1         7.1145e+02                                    2.15e+03    \n",
      "       1              2         3.9325e+02      3.18e+02       5.59e-01       1.19e+03    \n",
      "       2              4         2.4492e+02      1.48e+02       1.40e-01       4.57e+02    \n",
      "       3              6         2.1402e+02      3.09e+01       6.99e-02       2.68e+02    \n",
      "       4              7         1.9785e+02      1.62e+01       6.99e-02       1.61e+02    \n",
      "       5              8         1.9018e+02      7.67e+00       1.40e-01       2.85e+02    \n",
      "       6             10         1.8353e+02      6.65e+00       3.50e-02       7.24e+01    \n",
      "       7             11         1.8176e+02      1.77e+00       3.50e-02       7.76e+01    \n",
      "       8             12         1.8132e+02      4.38e-01       3.50e-02       1.31e+02    \n",
      "       9             13         1.8034e+02      9.84e-01       8.74e-03       6.84e+01    \n",
      "      10             14         1.7968e+02      6.58e-01       1.75e-02       4.32e+01    \n",
      "      11             15         1.7924e+02      4.38e-01       1.75e-02       5.23e+01    \n",
      "      12             16         1.7894e+02      3.06e-01       1.75e-02       5.81e+01    \n",
      "      13             17         1.7870e+02      2.37e-01       1.75e-02       6.02e+01    \n",
      "      14             18         1.7847e+02      2.32e-01       4.37e-03       2.96e+01    \n",
      "      15             19         1.7829e+02      1.82e-01       8.74e-03       2.43e+01    \n",
      "      16             20         1.7814e+02      1.43e-01       8.74e-03       2.34e+01    \n",
      "      17             21         1.7804e+02      1.02e-01       8.74e-03       2.72e+01    \n",
      "      18             22         1.7797e+02      7.46e-02       8.74e-03       2.92e+01    \n",
      "      19             23         1.7791e+02      5.68e-02       8.74e-03       3.04e+01    \n",
      "      20             24         1.7785e+02      5.83e-02       2.19e-03       1.50e+01    \n",
      "      21             25         1.7781e+02      4.44e-02       4.37e-03       1.20e+01    \n",
      "      22             26         1.7777e+02      3.44e-02       4.37e-03       1.20e+01    \n",
      "      23             27         1.7775e+02      2.45e-02       4.37e-03       1.38e+01    \n",
      "      24             28         1.7773e+02      1.81e-02       4.37e-03       1.47e+01    \n",
      "      25             29         1.7771e+02      1.47e-02       1.09e-03       7.56e+00    \n",
      "      26             30         1.7770e+02      1.34e-02       2.19e-03       6.79e+00    \n",
      "      27             31         1.7769e+02      1.12e-02       2.19e-03       5.90e+00    \n",
      "      28             32         1.7768e+02      8.40e-03       2.19e-03       6.02e+00    \n",
      "      29             33         1.7768e+02      5.83e-03       2.19e-03       6.98e+00    \n",
      "      30             34         1.7767e+02      4.38e-03       2.19e-03       7.39e+00    \n",
      "      31             35         1.7767e+02      3.67e-03       5.46e-04       3.71e+00    \n",
      "      32             36         1.7766e+02      3.25e-03       1.09e-03       3.33e+00    \n",
      "      33             37         1.7766e+02      2.71e-03       1.09e-03       2.89e+00    \n",
      "      34             38         1.7766e+02      2.00e-03       1.09e-03       3.10e+00    \n",
      "      35             39         1.7766e+02      1.40e-03       1.09e-03       3.53e+00    \n",
      "      36             40         1.7766e+02      1.06e-03       1.09e-03       3.71e+00    \n",
      "      37             41         1.7766e+02      9.17e-04       2.73e-04       1.82e+00    \n",
      "      38             42         1.7766e+02      7.91e-04       5.46e-04       1.64e+00    \n",
      "      39             43         1.7766e+02      6.52e-04       5.46e-04       1.42e+00    \n",
      "      40             44         1.7765e+02      4.76e-04       5.46e-04       1.58e+00    \n",
      "      41             45         1.7765e+02      3.36e-04       5.46e-04       1.78e+00    \n",
      "      42             46         1.7765e+02      2.56e-04       5.46e-04       1.87e+00    \n",
      "      43             47         1.7765e+02      2.29e-04       1.37e-04       9.16e-01    \n",
      "      44             48         1.7765e+02      1.93e-04       2.73e-04       8.04e-01    \n",
      "      45             49         1.7765e+02      1.57e-04       2.73e-04       6.97e-01    \n",
      "      46             50         1.7765e+02      1.14e-04       2.73e-04       8.08e-01    \n",
      "      47             51         1.7765e+02      8.11e-05       2.73e-04       8.97e-01    \n",
      "      48             52         1.7765e+02      6.18e-05       2.73e-04       9.37e-01    \n",
      "      49             53         1.7765e+02      5.72e-05       6.83e-05       4.60e-01    \n",
      "      50             54         1.7765e+02      4.70e-05       1.37e-04       3.95e-01    \n",
      "      51             55         1.7765e+02      3.79e-05       1.37e-04       3.49e-01    \n",
      "      52             56         1.7765e+02      2.73e-05       1.37e-04       4.11e-01    \n",
      "      53             57         1.7765e+02      1.96e-05       1.37e-04       4.52e-01    \n",
      "      54             58         1.7765e+02      1.50e-05       1.37e-04       4.71e-01    \n",
      "      55             59         1.7765e+02      1.43e-05       3.41e-05       2.31e-01    \n",
      "      56             60         1.7765e+02      1.15e-05       6.83e-05       1.94e-01    \n",
      "      57             61         1.7765e+02      9.14e-06       6.83e-05       1.78e-01    \n",
      "      58             62         1.7765e+02      6.55e-06       6.83e-05       2.09e-01    \n",
      "      59             63         1.7765e+02      4.75e-06       6.83e-05       2.27e-01    \n",
      "      60             64         1.7765e+02      3.62e-06       6.83e-05       2.36e-01    \n",
      "      61             65         1.7765e+02      3.57e-06       1.71e-05       1.16e-01    \n",
      "      62             66         1.7765e+02      2.80e-06       3.41e-05       9.56e-02    \n",
      "      63             67         1.7765e+02      2.21e-06       3.41e-05       9.11e-02    \n",
      "      64             68         1.7765e+02      1.57e-06       3.41e-05       1.06e-01    \n",
      "`ftol` termination condition is satisfied.\n",
      "Function evaluations 68, initial cost 7.1145e+02, final cost 1.7765e+02, first-order optimality 1.06e-01.\n"
     ]
    }
   ],
   "source": [
    "least_squares_serial_solve(prob)"
   ]
  },
  {
   "cell_type": "markdown",
   "metadata": {},
   "source": [
    "Examine properties of the optimum found:"
   ]
  },
  {
   "cell_type": "code",
   "execution_count": 11,
   "metadata": {},
   "outputs": [
    {
     "name": "stdout",
     "output_type": "stream",
     "text": [
      "At the optimum, x:  [ 1.45167296e-04  2.48260354e-09 -7.23396263e-10  1.34054125e-05\n",
      "  1.29163174e-05  2.93721927e-10 -1.48232529e-10  2.69514280e-06]\n",
      " Final curve dofs:  [ 3.00000000e+00  1.45167296e-04  2.48260354e-09 -7.23396263e-10\n",
      "  1.34054125e-05  1.29163174e-05  2.93721927e-10 -1.48232529e-10\n",
      "  2.69514280e-06]\n",
      " Final curve length:     18.849556238733285\n",
      " Expected final length:  18.84955592153876\n",
      " objective function:  355.30577039716894\n"
     ]
    }
   ],
   "source": [
    "print('At the optimum, x: ', prob.x)\n",
    "print(' Final curve dofs: ', curve.get_dofs())\n",
    "print(' Final curve length:    ', obj.J())\n",
    "print(' Expected final length: ', 2 * np.pi * x0[0])\n",
    "print(' objective function: ', prob.objective())"
   ]
  },
  {
   "cell_type": "markdown",
   "metadata": {},
   "source": [
    "All the Fourier modes after the first (the 0-frequency mode) have been reduced towards 0. The final curve length is approximately that of the circle with the expected radius."
   ]
  }
 ],
 "metadata": {
  "kernelspec": {
   "display_name": "Python 3",
   "language": "python",
   "name": "python3"
  },
  "language_info": {
   "codemirror_mode": {
    "name": "ipython",
    "version": 3
   },
   "file_extension": ".py",
   "mimetype": "text/x-python",
   "name": "python",
   "nbconvert_exporter": "python",
   "pygments_lexer": "ipython3",
   "version": "3.8.5"
  }
 },
 "nbformat": 4,
 "nbformat_minor": 4
}
