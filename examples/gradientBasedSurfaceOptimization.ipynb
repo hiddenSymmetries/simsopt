{
 "cells": [
  {
   "cell_type": "markdown",
   "metadata": {},
   "source": [
    "# Gradient-based optimization using automatic differentiation\n",
    "\n",
    "In this notebook, we optimize the minor radius and elongation of an axisymmetric torus to obtain a desired volume and area. The problem thus has two degrees of freedom. The objective function has least-squares form with two terms, involving the surface area and enclosed volume. VMEC is not used. This example is equivalent to `IntegratedTests.test_2dof_surface_opt` in `simsopt/tests/test_integrated.py`."
   ]
  },
  {
   "cell_type": "code",
   "execution_count": 1,
   "metadata": {},
   "outputs": [],
   "source": [
    "import numpy as np\n",
    "from simsopt.geo.surfacerzfourier import SurfaceRZFourier\n",
    "from simsopt.objectives.least_squares import LeastSquaresProblem\n",
    "from simsopt.solve.serial import least_squares_serial_solve"
   ]
  },
  {
   "cell_type": "markdown",
   "metadata": {},
   "source": [
    "Specify the values we'd like to achieve:"
   ]
  },
  {
   "cell_type": "code",
   "execution_count": 2,
   "metadata": {},
   "outputs": [],
   "source": [
    "desired_volume = 0.6\n",
    "desired_area = 8.0"
   ]
  },
  {
   "cell_type": "markdown",
   "metadata": {},
   "source": [
    "Start with a default toroidal surface, which is axisymmetric with major radius 1 and minor radius 0.1."
   ]
  },
  {
   "cell_type": "code",
   "execution_count": 3,
   "metadata": {},
   "outputs": [],
   "source": [
    "surf = SurfaceRZFourier()"
   ]
  },
  {
   "cell_type": "markdown",
   "metadata": {},
   "source": [
    "We are free to modify the surface shape, like this:"
   ]
  },
  {
   "cell_type": "code",
   "execution_count": 4,
   "metadata": {},
   "outputs": [],
   "source": [
    "surf.set_zs(1, 0, 0.2)"
   ]
  },
  {
   "cell_type": "markdown",
   "metadata": {},
   "source": [
    "or like this:"
   ]
  },
  {
   "cell_type": "code",
   "execution_count": 5,
   "metadata": {},
   "outputs": [],
   "source": [
    "surf.set('rc(1,0)', 0.09)"
   ]
  },
  {
   "cell_type": "markdown",
   "metadata": {},
   "source": [
    "The surface Fourier modes are all non-fixed by default, meaning they will be optimized.  You can choose to exclude any subset of the variables from the space of independent variables by setting their `fixed` property to `True`:"
   ]
  },
  {
   "cell_type": "code",
   "execution_count": 6,
   "metadata": {},
   "outputs": [],
   "source": [
    "surf.set_fixed('rc(0,0)')"
   ]
  },
  {
   "cell_type": "markdown",
   "metadata": {},
   "source": [
    "Each function we wish to optimize is then equipped with a shift and weight, to become a term in a least-squares objective function. The form of each term is $weight(function - goal)^2$."
   ]
  },
  {
   "cell_type": "code",
   "execution_count": 7,
   "metadata": {},
   "outputs": [],
   "source": [
    "term1 = (surf.volume, desired_volume, 1)\n",
    "term2 = (surf.area,   desired_area,   1)"
   ]
  },
  {
   "cell_type": "markdown",
   "metadata": {},
   "source": [
    "A list of terms are combined to form a nonlinear-least-squares problem:"
   ]
  },
  {
   "cell_type": "code",
   "execution_count": 8,
   "metadata": {},
   "outputs": [],
   "source": [
    "prob = LeastSquaresProblem([term1, term2])"
   ]
  },
  {
   "cell_type": "markdown",
   "metadata": {},
   "source": [
    "Let's print out the initial global state vector, i.e. the vector of variables that is optimized. Each entry in this state vector has an associated string, explaining its meaning."
   ]
  },
  {
   "cell_type": "code",
   "execution_count": 9,
   "metadata": {},
   "outputs": [
    {
     "name": "stdout",
     "output_type": "stream",
     "text": [
      "[0.09 0.2 ]\n",
      "['rc(1,0) of SurfaceRZFourier 0x125de0f40 (nfp=1, stellsym=True, mpol=1, ntor=0)', 'zs(1,0) of SurfaceRZFourier 0x125de0f40 (nfp=1, stellsym=True, mpol=1, ntor=0)']\n"
     ]
    }
   ],
   "source": [
    "print(prob.x)\n",
    "print(prob.dofs.names)"
   ]
  },
  {
   "cell_type": "markdown",
   "metadata": {},
   "source": [
    "We asked to optimize the functions `area` and `volume` of `surf`. Since `surf` also has functions with names that are the same except for a `d` in front (i.e. `darea` and `dvolume`), simsopt detects that derivative information is available."
   ]
  },
  {
   "cell_type": "code",
   "execution_count": 10,
   "metadata": {},
   "outputs": [
    {
     "data": {
      "text/plain": [
       "['__class__',\n",
       " '__delattr__',\n",
       " '__dict__',\n",
       " '__dir__',\n",
       " '__doc__',\n",
       " '__eq__',\n",
       " '__format__',\n",
       " '__ge__',\n",
       " '__getattribute__',\n",
       " '__gt__',\n",
       " '__hash__',\n",
       " '__init__',\n",
       " '__init_subclass__',\n",
       " '__le__',\n",
       " '__lt__',\n",
       " '__module__',\n",
       " '__ne__',\n",
       " '__new__',\n",
       " '__reduce__',\n",
       " '__reduce_ex__',\n",
       " '__repr__',\n",
       " '__setattr__',\n",
       " '__sizeof__',\n",
       " '__str__',\n",
       " '__subclasshook__',\n",
       " '__weakref__',\n",
       " '_validate_mn',\n",
       " 'all_fixed',\n",
       " 'allocate',\n",
       " 'area',\n",
       " 'change_resolution',\n",
       " 'darea',\n",
       " 'darea_by_dcoeff',\n",
       " 'dependencies',\n",
       " 'dgamma_by_dcoeff',\n",
       " 'dgammadash1_by_dcoeff',\n",
       " 'dgammadash2_by_dcoeff',\n",
       " 'dnormal_by_dcoeff',\n",
       " 'dvolume',\n",
       " 'dvolume_by_dcoeff',\n",
       " 'extend_via_normal',\n",
       " 'fit_to_curve',\n",
       " 'fixed',\n",
       " 'fixed_range',\n",
       " 'from_focus',\n",
       " 'gamma',\n",
       " 'gammadash1',\n",
       " 'gammadash2',\n",
       " 'get',\n",
       " 'get_dofs',\n",
       " 'get_fixed',\n",
       " 'get_rc',\n",
       " 'get_rs',\n",
       " 'get_zc',\n",
       " 'get_zs',\n",
       " 'index',\n",
       " 'invalidate_cache',\n",
       " 'least_squares_fit',\n",
       " 'make_names',\n",
       " 'make_names_helper',\n",
       " 'mpol',\n",
       " 'names',\n",
       " 'nfp',\n",
       " 'normal',\n",
       " 'ntor',\n",
       " 'plot',\n",
       " 'quadpoints_phi',\n",
       " 'quadpoints_theta',\n",
       " 'rc',\n",
       " 'recalculate',\n",
       " 'recalculate_derivs',\n",
       " 'rs',\n",
       " 'scale',\n",
       " 'set',\n",
       " 'set_dofs',\n",
       " 'set_fixed',\n",
       " 'set_rc',\n",
       " 'set_rs',\n",
       " 'set_zc',\n",
       " 'set_zs',\n",
       " 'stellsym',\n",
       " 'to_Garabedian',\n",
       " 'to_RZFourier',\n",
       " 'volume',\n",
       " 'zc',\n",
       " 'zs']"
      ]
     },
     "execution_count": 10,
     "metadata": {},
     "output_type": "execute_result"
    }
   ],
   "source": [
    "dir(surf)"
   ]
  },
  {
   "cell_type": "code",
   "execution_count": 11,
   "metadata": {},
   "outputs": [
    {
     "data": {
      "text/plain": [
       "True"
      ]
     },
     "execution_count": 11,
     "metadata": {},
     "output_type": "execute_result"
    }
   ],
   "source": [
    "prob.dofs.grad_avail"
   ]
  },
  {
   "cell_type": "markdown",
   "metadata": {},
   "source": [
    "Finally, let's solve the optimization problem. Since simsopt has detected that analytic derivatives are available, it chooses a derivative-based algorithm."
   ]
  },
  {
   "cell_type": "code",
   "execution_count": 12,
   "metadata": {},
   "outputs": [
    {
     "name": "stdout",
     "output_type": "stream",
     "text": [
      "Using derivatives\n",
      "   Iteration     Total nfev        Cost      Cost reduction    Step norm     Optimality   \n",
      "       0              1         2.1679e+00                                    4.76e+01    \n",
      "       1              2         8.8652e-04      2.17e+00       7.67e-02       2.26e-01    \n",
      "       2              3         1.6220e-05      8.70e-04       1.34e-02       1.23e-01    \n",
      "       3              4         1.3232e-10      1.62e-05       7.57e-04       3.41e-04    \n",
      "       4              5         1.4763e-20      1.32e-10       2.43e-06       3.62e-09    \n",
      "`gtol` termination condition is satisfied.\n",
      "Function evaluations 5, initial cost 2.1679e+00, final cost 1.4763e-20, first-order optimality 3.62e-09.\n"
     ]
    }
   ],
   "source": [
    "least_squares_serial_solve(prob)"
   ]
  },
  {
   "cell_type": "markdown",
   "metadata": {},
   "source": [
    "Let's examine the optimum:"
   ]
  },
  {
   "cell_type": "code",
   "execution_count": 13,
   "metadata": {},
   "outputs": [
    {
     "name": "stdout",
     "output_type": "stream",
     "text": [
      "At the optimum,\n",
      " rc(m=1,n=0) =  0.10962565114183004\n",
      " zs(m=1,n=0) =  0.2772741121549299\n",
      " volume =  0.5999999999418775\n",
      " area =  8.0000000001617\n",
      " objective function =  2.952511150728531e-20\n"
     ]
    }
   ],
   "source": [
    "print(\"At the optimum,\")\n",
    "print(\" rc(m=1,n=0) = \", surf.get_rc(1, 0))\n",
    "print(\" zs(m=1,n=0) = \", surf.get_zs(1, 0))\n",
    "print(\" volume = \", surf.volume())\n",
    "print(\" area = \", surf.area())\n",
    "print(\" objective function = \", prob.objective())"
   ]
  },
  {
   "cell_type": "markdown",
   "metadata": {},
   "source": [
    "The optimization achieved the desired volume and area."
   ]
  }
 ],
 "metadata": {
  "kernelspec": {
   "display_name": "Python 3",
   "language": "python",
   "name": "python3"
  },
  "language_info": {
   "codemirror_mode": {
    "name": "ipython",
    "version": 3
   },
   "file_extension": ".py",
   "mimetype": "text/x-python",
   "name": "python",
   "nbconvert_exporter": "python",
   "pygments_lexer": "ipython3",
   "version": "3.8.5"
  }
 },
 "nbformat": 4,
 "nbformat_minor": 4
}
