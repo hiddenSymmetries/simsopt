{
 "cells": [
  {
   "cell_type": "markdown",
   "metadata": {},
   "source": [
    "# Example of using simsopt to optimize simsgeo objects\n",
    "\n",
    "This notebook demonstrates a silly little example of optimizing a simsgeo curve using simsopt. We start with a curve that has random Fourier coefficients for $R(\\phi)$ and $Z(\\phi)$, where $(R, \\phi, Z)$ are cylindrical coordinates. We minimize the length of the curve, keeping the 0-frequency Fourier mode of $R$ fixed. The result should be a circle.\n",
    "\n",
    "As of now, one change is needed in simsgeo to get this to work: in `simsgeo/simsgeo/magneticaxis.py`, `set_dofs()` should call `self.invalidate_cache()`."
   ]
  },
  {
   "cell_type": "code",
   "execution_count": 1,
   "metadata": {},
   "outputs": [],
   "source": [
    "from simsgeo import StelleratorSymmetricCylindricalFourierCurve, CurveLength\n",
    "import numpy as np\n",
    "import sys\n",
    "sys.path.append('..')\n",
    "from simsopt import optimizable, LeastSquaresTerm, LeastSquaresProblem"
   ]
  },
  {
   "cell_type": "markdown",
   "metadata": {},
   "source": [
    "Initialize the simsgeo curve. Simsopt's `optimizable` function adds methods for holding degrees of freedom fixed."
   ]
  },
  {
   "cell_type": "code",
   "execution_count": 2,
   "metadata": {},
   "outputs": [],
   "source": [
    "nquadrature = 100\n",
    "nfourier = 4\n",
    "nfp = 5\n",
    "curve = optimizable(StelleratorSymmetricCylindricalFourierCurve(nquadrature, nfourier, nfp))"
   ]
  },
  {
   "cell_type": "markdown",
   "metadata": {},
   "source": [
    "Initialize the Fourier coefficients to random numbers. The first coefficient is the average major radius, so set it to a positive number."
   ]
  },
  {
   "cell_type": "code",
   "execution_count": 4,
   "metadata": {},
   "outputs": [
    {
     "name": "stdout",
     "output_type": "stream",
     "text": [
      "Initial curve dofs:  [ 3.          0.03934276 -0.41214021 -0.34998505 -0.1027793   0.04387313\n",
      " -0.45589641 -0.09285888  0.01371765]\n"
     ]
    }
   ],
   "source": [
    "x0 = np.random.rand(curve.num_dofs()) - 0.5\n",
    "x0[0] = 3.0\n",
    "curve.set_dofs(x0)\n",
    "print('Initial curve dofs: ', curve.get_dofs())"
   ]
  },
  {
   "cell_type": "markdown",
   "metadata": {},
   "source": [
    "Tell the curve object that the first Fourier mode is fixed, whereas all the other dofs are not."
   ]
  },
  {
   "cell_type": "code",
   "execution_count": 5,
   "metadata": {},
   "outputs": [],
   "source": [
    "curve.all_fixed(False)\n",
    "curve.fixed[0] = True"
   ]
  },
  {
   "cell_type": "markdown",
   "metadata": {},
   "source": [
    "Presently in simsgeo, the length objective is a separate object rather than as a function of Curve itself, so we must create this 2nd object:"
   ]
  },
  {
   "cell_type": "code",
   "execution_count": 7,
   "metadata": {},
   "outputs": [
    {
     "name": "stdout",
     "output_type": "stream",
     "text": [
      "Initial curve length:  39.28955832805552\n"
     ]
    }
   ],
   "source": [
    "obj = optimizable(CurveLength(curve))\n",
    "print('Initial curve length: ', obj.J())"
   ]
  },
  {
   "cell_type": "markdown",
   "metadata": {},
   "source": [
    "The following assignment is needed for simsopt to recognize that `obj` depends on `curve`. Hopefully this step can be made unnecessary with a change in simsgeo."
   ]
  },
  {
   "cell_type": "code",
   "execution_count": 8,
   "metadata": {},
   "outputs": [],
   "source": [
    "obj.depends_on = ['curve']"
   ]
  },
  {
   "cell_type": "markdown",
   "metadata": {},
   "source": [
    "Create a term in the least-squares objective function, $1.0 * (length - 0.0)^2$:"
   ]
  },
  {
   "cell_type": "code",
   "execution_count": 9,
   "metadata": {},
   "outputs": [],
   "source": [
    "term1 = LeastSquaresTerm(obj, 0.0, 1.0)"
   ]
  },
  {
   "cell_type": "markdown",
   "metadata": {},
   "source": [
    "Put this term into a least-squares problem object:"
   ]
  },
  {
   "cell_type": "code",
   "execution_count": 10,
   "metadata": {},
   "outputs": [],
   "source": [
    "prob = LeastSquaresProblem([term1])"
   ]
  },
  {
   "cell_type": "markdown",
   "metadata": {},
   "source": [
    "Simsopt recognizes that derivative information is available:"
   ]
  },
  {
   "cell_type": "code",
   "execution_count": 11,
   "metadata": {},
   "outputs": [
    {
     "data": {
      "text/plain": [
       "True"
      ]
     },
     "execution_count": 11,
     "metadata": {},
     "output_type": "execute_result"
    }
   ],
   "source": [
    "prob.dofs.grad_avail"
   ]
  },
  {
   "cell_type": "markdown",
   "metadata": {},
   "source": [
    "Let's view the initial global state vector. It should contain all the initial Fourier modes except the first:"
   ]
  },
  {
   "cell_type": "code",
   "execution_count": 13,
   "metadata": {},
   "outputs": [
    {
     "data": {
      "text/plain": [
       "array([ 0.03934276, -0.41214021, -0.34998505, -0.1027793 ,  0.04387313,\n",
       "       -0.45589641, -0.09285888,  0.01371765])"
      ]
     },
     "execution_count": 13,
     "metadata": {},
     "output_type": "execute_result"
    }
   ],
   "source": [
    "prob.x"
   ]
  },
  {
   "cell_type": "markdown",
   "metadata": {},
   "source": [
    "Solve the minimization problem:"
   ]
  },
  {
   "cell_type": "code",
   "execution_count": 14,
   "metadata": {},
   "outputs": [
    {
     "name": "stdout",
     "output_type": "stream",
     "text": [
      "Using analytic derivatives\n",
      "   Iteration     Total nfev        Cost      Cost reduction    Step norm     Optimality   \n",
      "       0              1         7.7183e+02                                    1.08e+03    \n",
      "       1              2         2.3574e+02      5.36e+02       7.23e-01       5.52e+02    \n",
      "       2              4         1.8754e+02      4.82e+01       1.81e-01       2.69e+02    \n",
      "       3              6         1.7999e+02      7.55e+00       4.52e-02       8.43e+01    \n",
      "       4              7         1.7823e+02      1.76e+00       4.52e-02       7.51e+01    \n",
      "       5              9         1.7772e+02      5.07e-01       1.13e-02       1.35e+01    \n",
      "       6             11         1.7768e+02      3.65e-02       2.83e-03       5.85e+00    \n",
      "       7             12         1.7767e+02      1.59e-02       2.83e-03       2.69e+00    \n",
      "       8             13         1.7766e+02      6.45e-03       2.83e-03       4.27e+00    \n",
      "       9             15         1.7766e+02      2.77e-03       7.06e-04       1.81e+00    \n",
      "      10             16         1.7766e+02      1.66e-03       7.06e-04       1.59e+00    \n",
      "      11             17         1.7766e+02      2.54e-03       1.41e-03       1.09e+00    \n",
      "      12             19         1.7765e+02      6.53e-04       7.06e-04       1.81e+00    \n",
      "      13             20         1.7765e+02      1.38e-04       7.06e-04       2.77e+00    \n",
      "      14             21         1.7765e+02      4.18e-04       1.77e-04       1.48e+00    \n",
      "      15             22         1.7765e+02      2.78e-04       3.53e-04       8.19e-01    \n",
      "      16             23         1.7765e+02      1.80e-04       3.53e-04       1.06e+00    \n",
      "      17             24         1.7765e+02      1.25e-04       3.53e-04       1.18e+00    \n",
      "      18             25         1.7765e+02      9.74e-05       3.53e-04       1.22e+00    \n",
      "      19             26         1.7765e+02      9.52e-05       8.83e-05       6.01e-01    \n",
      "      20             27         1.7765e+02      7.46e-05       1.77e-04       4.14e-01    \n",
      "      21             28         1.7765e+02      5.87e-05       1.77e-04       4.73e-01    \n",
      "      22             29         1.7765e+02      4.19e-05       1.77e-04       5.50e-01    \n",
      "      23             30         1.7765e+02      3.07e-05       1.77e-04       5.92e-01    \n",
      "      24             31         1.7765e+02      2.34e-05       1.77e-04       6.15e-01    \n",
      "      25             32         1.7765e+02      2.38e-05       4.41e-05       3.03e-01    \n",
      "      26             33         1.7765e+02      1.83e-05       8.83e-05       2.10e-01    \n",
      "      27             34         1.7765e+02      1.42e-05       8.83e-05       2.41e-01    \n",
      "      28             35         1.7765e+02      1.01e-05       8.83e-05       2.78e-01    \n",
      "      29             36         1.7765e+02      7.47e-06       8.83e-05       2.97e-01    \n",
      "      30             37         1.7765e+02      5.67e-06       8.83e-05       3.09e-01    \n",
      "      31             38         1.7765e+02      5.96e-06       2.21e-05       1.52e-01    \n",
      "      32             39         1.7765e+02      4.46e-06       4.41e-05       1.06e-01    \n",
      "      33             40         1.7765e+02      3.43e-06       4.41e-05       1.23e-01    \n",
      "      34             41         1.7765e+02      2.44e-06       4.41e-05       1.40e-01    \n",
      "      35             42         1.7765e+02      1.82e-06       4.41e-05       1.49e-01    \n",
      "      36             43         1.7765e+02      1.50e-06       1.10e-05       7.32e-02    \n",
      "`ftol` termination condition is satisfied.\n",
      "Function evaluations 43, initial cost 7.7183e+02, final cost 1.7765e+02, first-order optimality 7.32e-02.\n"
     ]
    }
   ],
   "source": [
    "prob.solve()"
   ]
  },
  {
   "cell_type": "markdown",
   "metadata": {},
   "source": [
    "Examine properties of the optimum found:"
   ]
  },
  {
   "cell_type": "code",
   "execution_count": 15,
   "metadata": {},
   "outputs": [
    {
     "name": "stdout",
     "output_type": "stream",
     "text": [
      "At the optimum, x:  [ 1.06023635e-04  1.81287904e-09  4.21471514e-10 -9.27440562e-06\n",
      " -1.11663809e-04 -1.86116878e-09 -1.65496223e-10  1.74263584e-06]\n",
      " Final curve dofs:  [ 3.00000000e+00  1.06023635e-04  1.81287904e-09  4.21471514e-10\n",
      " -9.27440562e-06 -1.11663809e-04 -1.86116878e-09 -1.65496223e-10\n",
      "  1.74263584e-06]\n",
      " Final curve length:     18.849556250550418\n",
      " Expected final length:  18.84955592153876\n",
      " objective function:  355.3057708426643\n"
     ]
    }
   ],
   "source": [
    "print('At the optimum, x: ', prob.x)\n",
    "print(' Final curve dofs: ', curve.get_dofs())\n",
    "print(' Final curve length:    ', obj.J())\n",
    "print(' Expected final length: ', 2 * np.pi * x0[0])\n",
    "print(' objective function: ', prob.objective)"
   ]
  },
  {
   "cell_type": "markdown",
   "metadata": {},
   "source": [
    "All the Fourier modes after the first (the 0-frequency mode) have been reduced towards 0. The final curve length is approximately that of the circle with the expected radius."
   ]
  }
 ],
 "metadata": {
  "kernelspec": {
   "display_name": "Python 3",
   "language": "python",
   "name": "python3"
  },
  "language_info": {
   "codemirror_mode": {
    "name": "ipython",
    "version": 3
   },
   "file_extension": ".py",
   "mimetype": "text/x-python",
   "name": "python",
   "nbconvert_exporter": "python",
   "pygments_lexer": "ipython3",
   "version": "3.7.8"
  }
 },
 "nbformat": 4,
 "nbformat_minor": 4
}
