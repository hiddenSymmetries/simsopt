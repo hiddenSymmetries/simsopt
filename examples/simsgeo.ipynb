{
 "cells": [
  {
   "cell_type": "markdown",
   "metadata": {},
   "source": [
    "# Example of using simsopt to optimize simsgeo objects\n",
    "\n",
    "This notebook demonstrates a silly little example of optimizing a simsgeo curve using simsopt. We start with a curve that has random Fourier coefficients for $R(\\phi)$ and $Z(\\phi)$, where $(R, \\phi, Z)$ are cylindrical coordinates. We minimize the length of the curve, keeping the 0-frequency Fourier mode of $R$ fixed. The result should be a circle.\n",
    "\n",
    "As of now, one change is needed in simsgeo to get this to work: in `simsgeo/simsgeo/magneticaxis.py`, `set_dofs()` should call `self.invalidate_cache()`."
   ]
  },
  {
   "cell_type": "code",
   "execution_count": 1,
   "metadata": {},
   "outputs": [],
   "source": [
    "from simsgeo import StelleratorSymmetricCylindricalFourierCurve, CurveLength\n",
    "import numpy as np\n",
    "import sys\n",
    "sys.path.append('..')\n",
    "from simsopt import optimizable, LeastSquaresProblem, least_squares_serial_solve"
   ]
  },
  {
   "cell_type": "markdown",
   "metadata": {},
   "source": [
    "Initialize the simsgeo curve. Simsopt's `optimizable` function adds methods for holding degrees of freedom fixed."
   ]
  },
  {
   "cell_type": "code",
   "execution_count": 2,
   "metadata": {},
   "outputs": [],
   "source": [
    "nquadrature = 100\n",
    "nfourier = 4\n",
    "nfp = 5\n",
    "curve = optimizable(StelleratorSymmetricCylindricalFourierCurve(nquadrature, nfourier, nfp))"
   ]
  },
  {
   "cell_type": "markdown",
   "metadata": {},
   "source": [
    "Initialize the Fourier coefficients to random numbers. The first coefficient is the average major radius, so set it to a positive number."
   ]
  },
  {
   "cell_type": "code",
   "execution_count": 3,
   "metadata": {},
   "outputs": [
    {
     "name": "stdout",
     "output_type": "stream",
     "text": [
      "Initial curve dofs:  [ 3.          0.0105896   0.36623945 -0.32220711  0.02087978  0.10188207\n",
      "  0.1526843  -0.15434564 -0.21810063]\n"
     ]
    }
   ],
   "source": [
    "x0 = np.random.rand(curve.num_dofs()) - 0.5\n",
    "x0[0] = 3.0\n",
    "curve.set_dofs(x0)\n",
    "print('Initial curve dofs: ', curve.get_dofs())"
   ]
  },
  {
   "cell_type": "markdown",
   "metadata": {},
   "source": [
    "Tell the curve object that the first Fourier mode is fixed, whereas all the other dofs are not."
   ]
  },
  {
   "cell_type": "code",
   "execution_count": 4,
   "metadata": {},
   "outputs": [],
   "source": [
    "curve.all_fixed(False)\n",
    "curve.fixed[0] = True"
   ]
  },
  {
   "cell_type": "markdown",
   "metadata": {},
   "source": [
    "Presently in simsgeo, the length objective is a separate object rather than as a function of Curve itself, so we must create this 2nd object:"
   ]
  },
  {
   "cell_type": "code",
   "execution_count": 5,
   "metadata": {},
   "outputs": [
    {
     "name": "stdout",
     "output_type": "stream",
     "text": [
      "Initial curve length:  38.95109509481029\n"
     ]
    }
   ],
   "source": [
    "obj = optimizable(CurveLength(curve))\n",
    "print('Initial curve length: ', obj.J())"
   ]
  },
  {
   "cell_type": "markdown",
   "metadata": {},
   "source": [
    "The following assignment is needed for simsopt to recognize that `obj` depends on `curve`. Hopefully this step can be made unnecessary with a change in simsgeo."
   ]
  },
  {
   "cell_type": "code",
   "execution_count": 6,
   "metadata": {},
   "outputs": [],
   "source": [
    "obj.depends_on = ['curve']"
   ]
  },
  {
   "cell_type": "markdown",
   "metadata": {},
   "source": [
    "Create a term in the least-squares objective function, $1.0 * (length - 0.0)^2$:"
   ]
  },
  {
   "cell_type": "code",
   "execution_count": 7,
   "metadata": {},
   "outputs": [],
   "source": [
    "term1 = (obj, 0.0, 1.0)"
   ]
  },
  {
   "cell_type": "markdown",
   "metadata": {},
   "source": [
    "Put this term into a least-squares problem object:"
   ]
  },
  {
   "cell_type": "code",
   "execution_count": 8,
   "metadata": {},
   "outputs": [],
   "source": [
    "prob = LeastSquaresProblem([term1])"
   ]
  },
  {
   "cell_type": "markdown",
   "metadata": {},
   "source": [
    "Simsopt recognizes that derivative information is available:"
   ]
  },
  {
   "cell_type": "code",
   "execution_count": 9,
   "metadata": {},
   "outputs": [
    {
     "data": {
      "text/plain": [
       "True"
      ]
     },
     "execution_count": 9,
     "metadata": {},
     "output_type": "execute_result"
    }
   ],
   "source": [
    "prob.dofs.grad_avail"
   ]
  },
  {
   "cell_type": "markdown",
   "metadata": {},
   "source": [
    "Let's view the initial global state vector. It should contain all the initial Fourier modes except the first:"
   ]
  },
  {
   "cell_type": "code",
   "execution_count": 10,
   "metadata": {},
   "outputs": [
    {
     "data": {
      "text/plain": [
       "array([ 0.0105896 ,  0.36623945, -0.32220711,  0.02087978,  0.10188207,\n",
       "        0.1526843 , -0.15434564, -0.21810063])"
      ]
     },
     "execution_count": 10,
     "metadata": {},
     "output_type": "execute_result"
    }
   ],
   "source": [
    "prob.x"
   ]
  },
  {
   "cell_type": "markdown",
   "metadata": {},
   "source": [
    "Solve the minimization problem:"
   ]
  },
  {
   "cell_type": "code",
   "execution_count": 11,
   "metadata": {},
   "outputs": [
    {
     "name": "stdout",
     "output_type": "stream",
     "text": [
      "Using analytic derivatives\n",
      "   Iteration     Total nfev        Cost      Cost reduction    Step norm     Optimality   \n",
      "       0              1         7.5859e+02                                    1.63e+03    \n",
      "       1              2         3.8933e+02      3.69e+02       5.86e-01       1.43e+03    \n",
      "       2              4         2.3284e+02      1.56e+02       1.47e-01       4.79e+02    \n",
      "       3              6         2.0191e+02      3.09e+01       7.33e-02       2.58e+02    \n",
      "       4              7         1.8532e+02      1.66e+01       7.33e-02       1.40e+02    \n",
      "       5              8         1.8518e+02      1.44e-01       1.47e-01       2.30e+02    \n",
      "       6              9         1.7989e+02      5.30e+00       3.66e-02       7.56e+01    \n",
      "       7             10         1.7806e+02      1.83e+00       3.66e-02       3.89e+01    \n",
      "       8             12         1.7790e+02      1.56e-01       9.16e-03       2.21e+01    \n",
      "       9             13         1.7787e+02      3.22e-02       9.16e-03       3.39e+01    \n",
      "      10             14         1.7780e+02      6.66e-02       2.29e-03       1.75e+01    \n",
      "      11             15         1.7777e+02      3.85e-02       4.58e-03       1.18e+01    \n",
      "      12             16         1.7774e+02      2.21e-02       4.58e-03       1.49e+01    \n",
      "      13             17         1.7773e+02      1.71e-02       4.58e-03       1.55e+01    \n",
      "      14             18         1.7771e+02      1.60e-02       1.14e-03       7.59e+00    \n",
      "      15             19         1.7770e+02      1.29e-02       2.29e-03       6.52e+00    \n",
      "      16             20         1.7769e+02      1.03e-02       2.29e-03       5.87e+00    \n",
      "      17             21         1.7768e+02      7.37e-03       2.29e-03       6.88e+00    \n",
      "      18             22         1.7768e+02      5.35e-03       2.29e-03       7.49e+00    \n",
      "      19             23         1.7767e+02      4.07e-03       2.29e-03       7.79e+00    \n",
      "      20             24         1.7767e+02      4.01e-03       5.72e-04       3.83e+00    \n",
      "      21             25         1.7766e+02      3.15e-03       1.14e-03       3.21e+00    \n",
      "      22             26         1.7766e+02      2.48e-03       1.14e-03       3.00e+00    \n",
      "      23             27         1.7766e+02      1.77e-03       1.14e-03       3.49e+00    \n",
      "      24             28         1.7766e+02      1.30e-03       1.14e-03       3.76e+00    \n",
      "      25             29         1.7766e+02      9.87e-04       1.14e-03       3.91e+00    \n",
      "      26             30         1.7766e+02      1.00e-03       2.86e-04       1.93e+00    \n",
      "      27             31         1.7766e+02      7.70e-04       5.72e-04       1.58e+00    \n",
      "      28             32         1.7765e+02      6.00e-04       5.72e-04       1.53e+00    \n",
      "      29             33         1.7765e+02      4.27e-04       5.72e-04       1.77e+00    \n",
      "      30             34         1.7765e+02      3.15e-04       5.72e-04       1.89e+00    \n",
      "      31             35         1.7765e+02      2.39e-04       5.72e-04       1.96e+00    \n",
      "      32             36         1.7765e+02      2.50e-04       1.43e-04       9.68e-01    \n",
      "      33             37         1.7765e+02      1.88e-04       2.86e-04       7.79e-01    \n",
      "      34             38         1.7765e+02      1.45e-04       2.86e-04       7.79e-01    \n",
      "      35             39         1.7765e+02      1.03e-04       2.86e-04       8.92e-01    \n",
      "      36             40         1.7765e+02      7.66e-05       2.86e-04       9.49e-01    \n",
      "      37             41         1.7765e+02      6.31e-05       7.16e-05       4.92e-01    \n",
      "      38             42         1.7765e+02      5.67e-05       1.43e-04       4.42e-01    \n",
      "      39             43         1.7765e+02      4.75e-05       1.43e-04       3.84e-01    \n",
      "      40             44         1.7765e+02      3.53e-05       1.43e-04       3.92e-01    \n",
      "      41             45         1.7765e+02      2.46e-05       1.43e-04       4.52e-01    \n",
      "      42             46         1.7765e+02      1.85e-05       1.43e-04       4.77e-01    \n",
      "      43             47         1.7765e+02      1.57e-05       3.58e-05       2.42e-01    \n",
      "      44             48         1.7765e+02      1.38e-05       7.16e-05       2.17e-01    \n",
      "      45             49         1.7765e+02      1.14e-05       7.16e-05       1.88e-01    \n",
      "      46             50         1.7765e+02      8.41e-06       7.16e-05       2.01e-01    \n",
      "      47             51         1.7765e+02      5.90e-06       7.16e-05       2.28e-01    \n",
      "      48             52         1.7765e+02      4.48e-06       7.16e-05       2.40e-01    \n",
      "      49             53         1.7765e+02      3.93e-06       1.79e-05       1.19e-01    \n",
      "      50             54         1.7765e+02      3.36e-06       3.58e-05       1.06e-01    \n",
      "      51             55         1.7765e+02      2.75e-06       3.58e-05       9.24e-02    \n",
      "      52             56         1.7765e+02      2.01e-06       3.58e-05       1.03e-01    \n",
      "      53             57         1.7765e+02      1.42e-06       3.58e-05       1.15e-01    \n",
      "`ftol` termination condition is satisfied.\n",
      "Function evaluations 57, initial cost 7.5859e+02, final cost 1.7765e+02, first-order optimality 1.15e-01.\n"
     ]
    }
   ],
   "source": [
    "least_squares_serial_solve(prob)"
   ]
  },
  {
   "cell_type": "markdown",
   "metadata": {},
   "source": [
    "Examine properties of the optimum found:"
   ]
  },
  {
   "cell_type": "code",
   "execution_count": 12,
   "metadata": {},
   "outputs": [
    {
     "name": "stdout",
     "output_type": "stream",
     "text": [
      "At the optimum, x:  [ 1.07258513e-05  7.82212229e-10 -2.47621830e-10  4.01831025e-06\n",
      "  1.40171238e-04  2.35033963e-10 -1.00683606e-10  1.45708612e-05]\n",
      " Final curve dofs:  [ 3.00000000e+00  1.07258513e-05  7.82212229e-10 -2.47621830e-10\n",
      "  4.01831025e-06  1.40171238e-04  2.35033963e-10 -1.00683606e-10\n",
      "  1.45708612e-05]\n",
      " Final curve length:     18.84955622808396\n",
      " Expected final length:  18.84955592153876\n",
      " objective function:  355.30576999569877\n"
     ]
    }
   ],
   "source": [
    "print('At the optimum, x: ', prob.x)\n",
    "print(' Final curve dofs: ', curve.get_dofs())\n",
    "print(' Final curve length:    ', obj.J())\n",
    "print(' Expected final length: ', 2 * np.pi * x0[0])\n",
    "print(' objective function: ', prob.objective())"
   ]
  },
  {
   "cell_type": "markdown",
   "metadata": {},
   "source": [
    "All the Fourier modes after the first (the 0-frequency mode) have been reduced towards 0. The final curve length is approximately that of the circle with the expected radius."
   ]
  }
 ],
 "metadata": {
  "kernelspec": {
   "display_name": "Python 3",
   "language": "python",
   "name": "python3"
  },
  "language_info": {
   "codemirror_mode": {
    "name": "ipython",
    "version": 3
   },
   "file_extension": ".py",
   "mimetype": "text/x-python",
   "name": "python",
   "nbconvert_exporter": "python",
   "pygments_lexer": "ipython3",
   "version": "3.8.5"
  }
 },
 "nbformat": 4,
 "nbformat_minor": 4
}
