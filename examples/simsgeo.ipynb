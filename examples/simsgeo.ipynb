{
 "cells": [
  {
   "cell_type": "markdown",
   "metadata": {},
   "source": [
    "# Example of using simsopt to optimize simsgeo objects\n",
    "\n",
    "This notebook demonstrates a silly little example of optimizing a simsgeo curve using simsopt. We start with a curve that has random Fourier coefficients for $R(\\phi)$ and $Z(\\phi)$, where $(R, \\phi, Z)$ are cylindrical coordinates. We minimize the length of the curve, keeping the 0-frequency Fourier mode of $R$ fixed. The result should be a circle.\n",
    "\n",
    "As of now, one change is needed in simsgeo to get this to work: in `simsgeo/simsgeo/magneticaxis.py`, `set_dofs()` should call `self.invalidate_cache()`."
   ]
  },
  {
   "cell_type": "code",
   "execution_count": 1,
   "metadata": {},
   "outputs": [],
   "source": [
    "import numpy as np\n",
    "from simsopt.geo.curverzfourier import CurveRZFourier\n",
    "from simsopt.geo.objectives import CurveLength\n",
    "from simsopt.core.least_squares_problem import LeastSquaresProblem\n",
    "from simsopt.solve.serial_solve import least_squares_serial_solve\n"
   ]
  },
  {
   "cell_type": "markdown",
   "metadata": {},
   "source": [
    "Initialize the simsgeo curve:"
   ]
  },
  {
   "cell_type": "code",
   "execution_count": 2,
   "metadata": {},
   "outputs": [],
   "source": [
    "nquadrature = 100\n",
    "nfourier = 4\n",
    "nfp = 5\n",
    "curve = CurveRZFourier(nquadrature, nfourier, nfp, True)"
   ]
  },
  {
   "cell_type": "markdown",
   "metadata": {},
   "source": [
    "Initialize the Fourier coefficients to random numbers. The first coefficient is the average major radius, so set it to a positive number."
   ]
  },
  {
   "cell_type": "code",
   "execution_count": 3,
   "metadata": {},
   "outputs": [
    {
     "name": "stdout",
     "output_type": "stream",
     "text": [
      "Initial curve dofs:  [ 3.          0.1062567  -0.39132479 -0.32167043 -0.19296166  0.42334101\n",
      "  0.46584917 -0.21130773  0.14268142]\n"
     ]
    }
   ],
   "source": [
    "x0 = np.random.rand(curve.num_dofs()) - 0.5\n",
    "x0[0] = 3.0\n",
    "curve.set_dofs(x0)\n",
    "print('Initial curve dofs: ', curve.get_dofs())"
   ]
  },
  {
   "cell_type": "markdown",
   "metadata": {},
   "source": [
    "Tell the curve object that the first Fourier mode is fixed, whereas all the other dofs are not."
   ]
  },
  {
   "cell_type": "code",
   "execution_count": 4,
   "metadata": {},
   "outputs": [],
   "source": [
    "curve.all_fixed(False)\n",
    "curve.fixed[0] = True"
   ]
  },
  {
   "cell_type": "markdown",
   "metadata": {},
   "source": [
    "Presently in simsgeo, the length objective is a separate object rather than as a function of Curve itself, so we must create this 2nd object:"
   ]
  },
  {
   "cell_type": "code",
   "execution_count": 5,
   "metadata": {},
   "outputs": [
    {
     "name": "stderr",
     "output_type": "stream",
     "text": [
      "WARNING:absl:No GPU/TPU found, falling back to CPU. (Set TF_CPP_MIN_LOG_LEVEL=0 and rerun for more info.)\n"
     ]
    },
    {
     "name": "stdout",
     "output_type": "stream",
     "text": [
      "Initial curve length:  45.79711879843295\n"
     ]
    }
   ],
   "source": [
    "obj = optimizable(CurveLength(curve))\n",
    "print('Initial curve length: ', obj.J())"
   ]
  },
  {
   "cell_type": "markdown",
   "metadata": {},
   "source": [
    "The following assignment is needed for simsopt to recognize that `obj` depends on `curve`. Hopefully this step can be made unnecessary with a change in simsgeo."
   ]
  },
  {
   "cell_type": "code",
   "execution_count": 6,
   "metadata": {},
   "outputs": [],
   "source": [
    "obj.depends_on = ['curve']"
   ]
  },
  {
   "cell_type": "markdown",
   "metadata": {},
   "source": [
    "Create a term in the least-squares objective function, $1.0 * (length - 0.0)^2$:"
   ]
  },
  {
   "cell_type": "code",
   "execution_count": 7,
   "metadata": {},
   "outputs": [],
   "source": [
    "term1 = (obj, 0.0, 1.0)"
   ]
  },
  {
   "cell_type": "markdown",
   "metadata": {},
   "source": [
    "Put this term into a least-squares problem object:"
   ]
  },
  {
   "cell_type": "code",
   "execution_count": 8,
   "metadata": {},
   "outputs": [],
   "source": [
    "prob = LeastSquaresProblem([term1])"
   ]
  },
  {
   "cell_type": "markdown",
   "metadata": {},
   "source": [
    "Simsopt recognizes that derivative information is available:"
   ]
  },
  {
   "cell_type": "code",
   "execution_count": 9,
   "metadata": {},
   "outputs": [
    {
     "data": {
      "text/plain": [
       "True"
      ]
     },
     "execution_count": 9,
     "metadata": {},
     "output_type": "execute_result"
    }
   ],
   "source": [
    "prob.dofs.grad_avail"
   ]
  },
  {
   "cell_type": "markdown",
   "metadata": {},
   "source": [
    "Let's view the initial global state vector. It should contain all the initial Fourier modes except the first:"
   ]
  },
  {
   "cell_type": "code",
   "execution_count": 10,
   "metadata": {},
   "outputs": [
    {
     "data": {
      "text/plain": [
       "array([ 0.1062567 , -0.39132479, -0.32167043, -0.19296166,  0.42334101,\n",
       "        0.46584917, -0.21130773,  0.14268142])"
      ]
     },
     "execution_count": 10,
     "metadata": {},
     "output_type": "execute_result"
    }
   ],
   "source": [
    "prob.x"
   ]
  },
  {
   "cell_type": "markdown",
   "metadata": {},
   "source": [
    "Solve the minimization problem:"
   ]
  },
  {
   "cell_type": "code",
   "execution_count": 11,
   "metadata": {},
   "outputs": [
    {
     "name": "stdout",
     "output_type": "stream",
     "text": [
      "Using derivatives\n",
      "   Iteration     Total nfev        Cost      Cost reduction    Step norm     Optimality   \n",
      "       0              1         1.0487e+03                                    1.31e+03    \n",
      "       1              2         7.7409e+02      2.75e+02       8.75e-01       2.06e+03    \n",
      "       2              4         3.4483e+02      4.29e+02       2.19e-01       7.91e+02    \n",
      "       3              6         2.4911e+02      9.57e+01       1.09e-01       2.77e+02    \n",
      "       4              7         2.3543e+02      1.37e+01       2.19e-01       5.27e+02    \n",
      "       5              8         2.0501e+02      3.04e+01       5.47e-02       2.27e+02    \n",
      "       6              9         2.0149e+02      3.53e+00       1.09e-01       2.99e+02    \n",
      "       7             10         1.9271e+02      8.78e+00       2.74e-02       1.45e+02    \n",
      "       8             11         1.8902e+02      3.69e+00       5.47e-02       1.27e+02    \n",
      "       9             12         1.8732e+02      1.70e+00       5.47e-02       1.58e+02    \n",
      "      10             13         1.8498e+02      2.34e+00       1.37e-02       7.94e+01    \n",
      "      11             14         1.8328e+02      1.70e+00       2.74e-02       7.14e+01    \n",
      "      12             15         1.8203e+02      1.26e+00       2.74e-02       6.35e+01    \n",
      "      13             16         1.8115e+02      8.76e-01       2.74e-02       7.36e+01    \n",
      "      14             17         1.8049e+02      6.60e-01       2.74e-02       7.83e+01    \n",
      "      15             18         1.7992e+02      5.73e-01       6.84e-03       4.52e+01    \n",
      "      16             19         1.7942e+02      4.95e-01       1.37e-02       4.06e+01    \n",
      "      17             20         1.7901e+02      4.08e-01       1.37e-02       3.52e+01    \n",
      "      18             21         1.7872e+02      2.99e-01       1.37e-02       3.39e+01    \n",
      "      19             22         1.7851e+02      2.11e-01       1.37e-02       3.82e+01    \n",
      "      20             23         1.7835e+02      1.60e-01       1.37e-02       4.01e+01    \n",
      "      21             24         1.7820e+02      1.43e-01       3.42e-03       2.23e+01    \n",
      "      22             25         1.7808e+02      1.21e-01       6.84e-03       2.00e+01    \n",
      "      23             26         1.7798e+02      9.84e-02       6.84e-03       1.73e+01    \n",
      "      24             27         1.7791e+02      7.14e-02       6.84e-03       1.74e+01    \n",
      "      25             28         1.7786e+02      5.08e-02       6.84e-03       1.94e+01    \n",
      "      26             29         1.7782e+02      3.87e-02       6.84e-03       2.02e+01    \n",
      "      27             30         1.7779e+02      3.58e-02       1.71e-03       1.10e+01    \n",
      "      28             31         1.7776e+02      2.95e-02       3.42e-03       9.81e+00    \n",
      "      29             32         1.7773e+02      2.37e-02       3.42e-03       8.51e+00    \n",
      "      30             33         1.7772e+02      1.71e-02       3.42e-03       8.89e+00    \n",
      "      31             34         1.7770e+02      1.23e-02       3.42e-03       9.76e+00    \n",
      "      32             35         1.7769e+02      9.38e-03       3.42e-03       1.02e+01    \n",
      "      33             36         1.7769e+02      8.95e-03       8.55e-04       5.39e+00    \n",
      "      34             37         1.7768e+02      7.19e-03       1.71e-03       4.83e+00    \n",
      "      35             38         1.7767e+02      5.73e-03       1.71e-03       4.18e+00    \n",
      "      36             39         1.7767e+02      4.10e-03       1.71e-03       4.52e+00    \n",
      "      37             40         1.7767e+02      2.98e-03       1.71e-03       4.91e+00    \n",
      "      38             41         1.7766e+02      2.27e-03       1.71e-03       5.11e+00    \n",
      "      39             42         1.7766e+02      2.24e-03       4.27e-04       2.66e+00    \n",
      "      40             43         1.7766e+02      1.76e-03       8.55e-04       2.38e+00    \n",
      "      41             44         1.7766e+02      1.38e-03       8.55e-04       2.06e+00    \n",
      "      42             45         1.7766e+02      9.87e-04       8.55e-04       2.29e+00    \n",
      "      43             46         1.7766e+02      7.23e-04       8.55e-04       2.47e+00    \n",
      "      44             47         1.7766e+02      5.50e-04       8.55e-04       2.57e+00    \n",
      "      45             48         1.7765e+02      5.59e-04       2.14e-04       1.31e+00    \n",
      "      46             49         1.7765e+02      4.29e-04       4.27e-04       1.17e+00    \n",
      "      47             50         1.7765e+02      3.34e-04       4.27e-04       1.01e+00    \n",
      "      48             51         1.7765e+02      2.38e-04       4.27e-04       1.16e+00    \n",
      "      49             52         1.7765e+02      1.76e-04       4.27e-04       1.24e+00    \n",
      "      50             53         1.7765e+02      1.33e-04       4.27e-04       1.29e+00    \n",
      "      51             54         1.7765e+02      1.40e-04       1.07e-04       6.45e-01    \n",
      "      52             55         1.7765e+02      1.05e-04       2.14e-04       5.76e-01    \n",
      "      53             56         1.7765e+02      8.08e-05       2.14e-04       5.11e-01    \n",
      "      54             57         1.7765e+02      5.74e-05       2.14e-04       5.85e-01    \n",
      "      55             58         1.7765e+02      4.27e-05       2.14e-04       6.23e-01    \n",
      "      56             59         1.7765e+02      3.52e-05       5.34e-05       3.64e-01    \n",
      "      57             60         1.7765e+02      3.16e-05       1.07e-04       3.27e-01    \n",
      "      58             61         1.7765e+02      2.65e-05       1.07e-04       2.84e-01    \n",
      "      59             62         1.7765e+02      1.97e-05       1.07e-04       2.57e-01    \n",
      "      60             63         1.7765e+02      1.37e-05       1.07e-04       2.96e-01    \n",
      "      61             64         1.7765e+02      1.03e-05       1.07e-04       3.13e-01    \n",
      "      62             65         1.7765e+02      8.78e-06       2.67e-05       1.79e-01    \n",
      "      63             66         1.7765e+02      7.69e-06       5.34e-05       1.60e-01    \n",
      "      64             67         1.7765e+02      6.37e-06       5.34e-05       1.39e-01    \n",
      "      65             68         1.7765e+02      4.69e-06       5.34e-05       1.32e-01    \n",
      "      66             69         1.7765e+02      3.29e-06       5.34e-05       1.50e-01    \n",
      "      67             70         1.7765e+02      2.49e-06       5.34e-05       1.57e-01    \n",
      "      68             71         1.7765e+02      2.19e-06       1.34e-05       8.79e-02    \n",
      "      69             72         1.7765e+02      1.87e-06       2.67e-05       7.88e-02    \n",
      "      70             73         1.7765e+02      1.54e-06       2.67e-05       6.84e-02    \n",
      "`ftol` termination condition is satisfied.\n",
      "Function evaluations 73, initial cost 1.0487e+03, final cost 1.7765e+02, first-order optimality 6.84e-02.\n"
     ]
    }
   ],
   "source": [
    "least_squares_serial_solve(prob)"
   ]
  },
  {
   "cell_type": "markdown",
   "metadata": {},
   "source": [
    "Examine properties of the optimum found:"
   ]
  },
  {
   "cell_type": "code",
   "execution_count": 12,
   "metadata": {},
   "outputs": [
    {
     "name": "stdout",
     "output_type": "stream",
     "text": [
      "At the optimum, x:  [ 2.12639823e-05  8.06953109e-10  1.43494849e-11  7.16303994e-06\n",
      "  1.38570670e-04  4.62734220e-10 -5.04666247e-11 -4.49856097e-06]\n",
      " Final curve dofs:  [ 3.00000000e+00  2.12639823e-05  8.06953109e-10  1.43494849e-11\n",
      "  7.16303994e-06  1.38570670e-04  4.62734220e-10 -5.04666247e-11\n",
      " -4.49856097e-06]\n",
      " Final curve length:     18.849556193793447\n",
      " Expected final length:  18.84955592153876\n",
      " objective function:  355.3057687029769\n"
     ]
    }
   ],
   "source": [
    "print('At the optimum, x: ', prob.x)\n",
    "print(' Final curve dofs: ', curve.get_dofs())\n",
    "print(' Final curve length:    ', obj.J())\n",
    "print(' Expected final length: ', 2 * np.pi * x0[0])\n",
    "print(' objective function: ', prob.objective())"
   ]
  },
  {
   "cell_type": "markdown",
   "metadata": {},
   "source": [
    "All the Fourier modes after the first (the 0-frequency mode) have been reduced towards 0. The final curve length is approximately that of the circle with the expected radius."
   ]
  }
 ],
 "metadata": {
  "kernelspec": {
   "display_name": "Python 3",
   "language": "python",
   "name": "python3"
  },
  "language_info": {
   "codemirror_mode": {
    "name": "ipython",
    "version": 3
   },
   "file_extension": ".py",
   "mimetype": "text/x-python",
   "name": "python",
   "nbconvert_exporter": "python",
   "pygments_lexer": "ipython3",
   "version": "3.8.5"
  }
 },
 "nbformat": 4,
 "nbformat_minor": 4
}
