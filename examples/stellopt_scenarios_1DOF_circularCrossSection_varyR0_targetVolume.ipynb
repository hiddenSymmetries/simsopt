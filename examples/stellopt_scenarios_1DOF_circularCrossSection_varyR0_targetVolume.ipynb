{
 "cells": [
  {
   "cell_type": "markdown",
   "metadata": {},
   "source": [
    "# 1 degree-of-freedom example of derivative-free optimization involving VMEC\n",
    "\n",
    "This script implements the \"1DOF_circularCrossSection_varyR0_targetVolume\" example from https://github.com/landreman/stellopt_scenarios . This optimization problem has one independent variable, representing the mean major radius. The problem also has one objective: the plasma volume. There is not actually any need to run an equilibrium code like VMEC since the objective function can be computed directly from the boundary shape. But this problem is a fast way to test the optimization infrastructure with VMEC.\n",
    "\n",
    "Details of the optimum and a plot of the objective function landscape can be found here: https://github.com/landreman/stellopt_scenarios/tree/master/1DOF_circularCrossSection_varyR0_targetVolume "
   ]
  },
  {
   "cell_type": "code",
   "execution_count": 1,
   "metadata": {},
   "outputs": [],
   "source": [
    "import numpy as np\n",
    "from simsopt.mhd import Vmec\n",
    "from simsopt import LeastSquaresProblem\n",
    "from simsopt import least_squares_serial_solve"
   ]
  },
  {
   "cell_type": "markdown",
   "metadata": {},
   "source": [
    "Start with a default surface, which is axisymmetric with major radius 1 and minor radius 0.1. "
   ]
  },
  {
   "cell_type": "code",
   "execution_count": 2,
   "metadata": {},
   "outputs": [],
   "source": [
    "equil = Vmec()\n",
    "surf = equil.boundary"
   ]
  },
  {
   "cell_type": "markdown",
   "metadata": {},
   "source": [
    "Set the initial boundary shape. Here is one syntax for doing this:"
   ]
  },
  {
   "cell_type": "code",
   "execution_count": 3,
   "metadata": {},
   "outputs": [],
   "source": [
    "surf.set('rc(0,0)', 1.0)"
   ]
  },
  {
   "cell_type": "markdown",
   "metadata": {},
   "source": [
    "Here is another syntax that also works:"
   ]
  },
  {
   "cell_type": "code",
   "execution_count": 4,
   "metadata": {},
   "outputs": [],
   "source": [
    "surf.set_rc(0, 1, 0.1)\n",
    "surf.set_zs(0, 1, 0.1)\n",
    "\n",
    "surf.set_rc(1, 0, 0.1)\n",
    "surf.set_zs(1, 0, 0.1)"
   ]
  },
  {
   "cell_type": "markdown",
   "metadata": {},
   "source": [
    "Now determine which parameters are varied in the optimization. VMEC parameters are all fixed by default, while surface parameters are all non-fixed by default. You can choose which parameters are optimized by setting their 'fixed' attributes."
   ]
  },
  {
   "cell_type": "code",
   "execution_count": 5,
   "metadata": {},
   "outputs": [],
   "source": [
    "surf.all_fixed()\n",
    "surf.set_fixed('rc(0,0)', False)"
   ]
  },
  {
   "cell_type": "markdown",
   "metadata": {},
   "source": [
    "Each function you want to optimize is then equipped with a shift and weight, to become a term in a least-squares objective function:"
   ]
  },
  {
   "cell_type": "code",
   "execution_count": 6,
   "metadata": {},
   "outputs": [],
   "source": [
    "desired_volume = 0.15\n",
    "weight = 1\n",
    "term1 = (equil.volume, desired_volume, weight)"
   ]
  },
  {
   "cell_type": "markdown",
   "metadata": {},
   "source": [
    "A list of terms are combined to form a nonlinear-least-squares problem:"
   ]
  },
  {
   "cell_type": "code",
   "execution_count": 7,
   "metadata": {},
   "outputs": [],
   "source": [
    "prob = LeastSquaresProblem([term1])"
   ]
  },
  {
   "cell_type": "markdown",
   "metadata": {},
   "source": [
    "Let's print out the initial global state vector, i.e. the vector of variables that is optimized. Each entry in this state vector has an associated string, explaining its meaning."
   ]
  },
  {
   "cell_type": "code",
   "execution_count": 8,
   "metadata": {},
   "outputs": [
    {
     "name": "stdout",
     "output_type": "stream",
     "text": [
      "[1.]\n",
      "['rc(0,0) of SurfaceRZFourier 0x12d9717c0 (nfp=5, stellsym=True, mpol=5, ntor=4)']\n"
     ]
    }
   ],
   "source": [
    "print(prob.x)\n",
    "print(prob.dofs.names)"
   ]
  },
  {
   "cell_type": "markdown",
   "metadata": {},
   "source": [
    "Simsopt detects that gradient information is not available:"
   ]
  },
  {
   "cell_type": "code",
   "execution_count": 9,
   "metadata": {},
   "outputs": [
    {
     "data": {
      "text/plain": [
       "False"
      ]
     },
     "execution_count": 9,
     "metadata": {},
     "output_type": "execute_result"
    }
   ],
   "source": [
    "prob.dofs.grad_avail"
   ]
  },
  {
   "cell_type": "markdown",
   "metadata": {},
   "source": [
    "Finally, let's solve the optimization problem. Simsopt detects that analytic derivatives are not available, and so chooses a derivative-free algorithm. During the optimization, VMEC's output is printed to the terminal window running the Jupyter server, not directly in this notebook. Here we use the serial solver `least_squares_serial_solve` to avoid the complication of using jupyter with MPI, but an MPI solver using parallelized finite-difference gradients is also available."
   ]
  },
  {
   "cell_type": "code",
   "execution_count": 10,
   "metadata": {},
   "outputs": [
    {
     "name": "stdout",
     "output_type": "stream",
     "text": [
      "Using derivative-free method\n",
      "   Iteration     Total nfev        Cost      Cost reduction    Step norm     Optimality   \n",
      "       0              1         1.1230e-03                                    9.35e-03    \n",
      "       1              2         6.9184e-18      1.12e-03       2.40e-01       7.34e-10    \n",
      "`gtol` termination condition is satisfied.\n",
      "Function evaluations 2, initial cost 1.1230e-03, final cost 6.9184e-18, first-order optimality 7.34e-10.\n"
     ]
    }
   ],
   "source": [
    "least_squares_serial_solve(prob)"
   ]
  },
  {
   "cell_type": "markdown",
   "metadata": {},
   "source": [
    "Let's examine the optimum:"
   ]
  },
  {
   "cell_type": "code",
   "execution_count": 11,
   "metadata": {},
   "outputs": [
    {
     "name": "stdout",
     "output_type": "stream",
     "text": [
      "At the optimum,\n",
      " rc(m=0,n=0) =  0.7599088584729224\n",
      " volume, according to VMEC    =  0.14999999628022323\n",
      " volume, according to Surface =  0.14999999628022254\n",
      " objective function =  1.3836739176882137e-17\n"
     ]
    }
   ],
   "source": [
    "print(\"At the optimum,\")\n",
    "print(\" rc(m=0,n=0) = \", surf.get_rc(0, 0))\n",
    "print(\" volume, according to VMEC    = \", equil.volume())\n",
    "print(\" volume, according to Surface = \", surf.volume())\n",
    "print(\" objective function = \", prob.objective())"
   ]
  },
  {
   "cell_type": "markdown",
   "metadata": {},
   "source": [
    "This solution matches the description in https://github.com/landreman/stellopt_scenarios/tree/master/1DOF_circularCrossSection_varyR0_targetVolume . We can do some asserts to be sure:"
   ]
  },
  {
   "cell_type": "code",
   "execution_count": 12,
   "metadata": {},
   "outputs": [],
   "source": [
    "assert np.abs(surf.get_rc(0, 0) - 0.7599088773175) < 1.0e-5\n",
    "assert np.abs(equil.volume() - 0.15) < 1.0e-6\n",
    "assert np.abs(surf.volume() - 0.15) < 1.0e-6\n",
    "assert prob.objective() < 1.0e-15"
   ]
  }
 ],
 "metadata": {
  "kernelspec": {
   "display_name": "Python 3",
   "language": "python",
   "name": "python3"
  },
  "language_info": {
   "codemirror_mode": {
    "name": "ipython",
    "version": 3
   },
   "file_extension": ".py",
   "mimetype": "text/x-python",
   "name": "python",
   "nbconvert_exporter": "python",
   "pygments_lexer": "ipython3",
   "version": "3.8.5"
  }
 },
 "nbformat": 4,
 "nbformat_minor": 4
}
