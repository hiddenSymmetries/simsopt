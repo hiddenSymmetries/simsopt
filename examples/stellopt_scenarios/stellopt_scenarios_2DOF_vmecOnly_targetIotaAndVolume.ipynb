{
 "cells": [
  {
   "cell_type": "markdown",
   "metadata": {},
   "source": [
    "# 2 degree-of-freedom example of derivative-free optimization involving VMEC\n",
    "\n",
    "This script implements the \"2DOF_vmecOnly_targetIotaAndVolume\" example from https://github.com/landreman/stellopt_scenarios . This optimization problem has two independent variables, representing the helical shape of the magnetic axis. The problem also has two objectives: the plasma volume and the rotational transform on the magnetic axis.\n",
    "\n",
    "The resolution in this example (i.e. ns, mpol, and ntor) is somewhat lower than in the stellopt_scenarios version of the example, just so this example runs fast.\n",
    "\n",
    "Details of the optimum and a plot of the objective function landscape can be found here: https://github.com/landreman/stellopt_scenarios/tree/master/2DOF_vmecOnly_targetIotaAndVolume  "
   ]
  },
  {
   "cell_type": "code",
   "execution_count": 1,
   "metadata": {},
   "outputs": [],
   "source": [
    "import numpy as np\n",
    "from simsopt.mhd import Vmec\n",
    "from simsopt import LeastSquaresProblem\n",
    "from simsopt.solve.mpi import least_squares_serial_solve"
   ]
  },
  {
   "cell_type": "markdown",
   "metadata": {},
   "source": [
    "Initialize VMEC and its boundary surface shape from an input file:"
   ]
  },
  {
   "cell_type": "code",
   "execution_count": 2,
   "metadata": {},
   "outputs": [],
   "source": [
    "equil = Vmec('input.2DOF_vmecOnly_targetIotaAndVolume')\n",
    "surf = equil.boundary"
   ]
  },
  {
   "cell_type": "markdown",
   "metadata": {},
   "source": [
    "Now determine which parameters are varied in the optimization. VMEC parameters are all fixed by default, while surface parameters are all non-fixed by default. You can choose which parameters are optimized by setting their 'fixed' attributes."
   ]
  },
  {
   "cell_type": "code",
   "execution_count": 3,
   "metadata": {},
   "outputs": [],
   "source": [
    "surf.all_fixed()\n",
    "surf.set_fixed('rc(1,1)', False)\n",
    "surf.set_fixed('zs(1,1)', False)"
   ]
  },
  {
   "cell_type": "markdown",
   "metadata": {},
   "source": [
    "Each function you want to optimize is then equipped with a shift and weight, to become a term in a least-squares objective function. Each term can be a tuple or list:"
   ]
  },
  {
   "cell_type": "code",
   "execution_count": 4,
   "metadata": {},
   "outputs": [],
   "source": [
    "desired_volume = 0.15\n",
    "volume_weight = 1\n",
    "term1 = (equil.volume, desired_volume, volume_weight)\n",
    "\n",
    "desired_iota = 0.41\n",
    "iota_weight = 1\n",
    "term2 = (equil.iota_axis, desired_iota, iota_weight)"
   ]
  },
  {
   "cell_type": "markdown",
   "metadata": {},
   "source": [
    "A list or tuple of terms are combined to form a nonlinear-least-squares problem:"
   ]
  },
  {
   "cell_type": "code",
   "execution_count": 5,
   "metadata": {},
   "outputs": [],
   "source": [
    "prob = LeastSquaresProblem([term1, term2])"
   ]
  },
  {
   "cell_type": "markdown",
   "metadata": {},
   "source": [
    "Let's print out the initial global state vector, i.e. the vector of variables that is optimized. Each entry in this state vector has an associated string, explaining its meaning."
   ]
  },
  {
   "cell_type": "code",
   "execution_count": 6,
   "metadata": {},
   "outputs": [
    {
     "name": "stdout",
     "output_type": "stream",
     "text": [
      "[ 0.05 -0.05]\n",
      "['rc(1,1) of SurfaceRZFourier 0x130233c70 (nfp=5, stellsym=True, mpol=3, ntor=3)', 'zs(1,1) of SurfaceRZFourier 0x130233c70 (nfp=5, stellsym=True, mpol=3, ntor=3)']\n"
     ]
    }
   ],
   "source": [
    "print(prob.x)\n",
    "print(prob.dofs.names)"
   ]
  },
  {
   "cell_type": "markdown",
   "metadata": {},
   "source": [
    "Simsopt detects that gradient information is not available:"
   ]
  },
  {
   "cell_type": "code",
   "execution_count": 7,
   "metadata": {},
   "outputs": [
    {
     "data": {
      "text/plain": [
       "False"
      ]
     },
     "execution_count": 7,
     "metadata": {},
     "output_type": "execute_result"
    }
   ],
   "source": [
    "prob.dofs.grad_avail"
   ]
  },
  {
   "cell_type": "markdown",
   "metadata": {},
   "source": [
    "Finally, let's solve the optimization problem. Simsopt detects that analytic derivatives are not available, and so chooses a derivative-free algorithm. During the optimization, VMEC's output is printed to the terminal window running the Jupyter server, not directly in this notebook. Here we use the serial solver `least_squares_serial_solve` to avoid the complication of using jupyter with MPI, but an MPI solver using parallelized finite-difference gradients is also available."
   ]
  },
  {
   "cell_type": "code",
   "execution_count": 8,
   "metadata": {},
   "outputs": [
    {
     "name": "stdout",
     "output_type": "stream",
     "text": [
      "Using derivative-free method\n",
      "   Iteration     Total nfev        Cost      Cost reduction    Step norm     Optimality   \n",
      "       0              1         1.3543e-01                                    8.22e+00    \n",
      "       1              2         4.2763e-02      9.27e-02       7.07e-02       6.96e+00    \n",
      "       2              3         2.1342e-02      2.14e-02       4.81e-02       3.10e+00    \n",
      "       3              5         6.6945e-04      2.07e-02       1.72e-02       2.88e-01    \n",
      "       4              7         4.0908e-04      2.60e-04       8.62e-03       3.74e-02    \n",
      "       5              9         4.0003e-04      9.05e-06       4.31e-03       8.87e-03    \n",
      "       6             11         3.9992e-04      1.11e-07       1.08e-03       9.71e-04    \n",
      "       7             12         3.9981e-04      1.05e-07       2.69e-04       2.85e-04    \n",
      "       8             13         3.9973e-04      8.25e-08       5.39e-04       6.92e-05    \n",
      "       9             16         3.9973e-04      5.76e-10       3.37e-05       3.50e-06    \n",
      "      10             17         3.9973e-04      1.30e-09       3.37e-05       2.55e-05    \n",
      "      11             19         3.9973e-04      2.02e-10       1.68e-05       1.57e-06    \n",
      "      12             22         3.9973e-04      1.77e-12       2.10e-06       1.82e-07    \n",
      "`ftol` termination condition is satisfied.\n",
      "Function evaluations 22, initial cost 1.3543e-01, final cost 3.9973e-04, first-order optimality 1.82e-07.\n"
     ]
    }
   ],
   "source": [
    "least_squares_serial_solve(prob)"
   ]
  },
  {
   "cell_type": "markdown",
   "metadata": {},
   "source": [
    "Let's examine the optimum:"
   ]
  },
  {
   "cell_type": "code",
   "execution_count": 9,
   "metadata": {},
   "outputs": [
    {
     "name": "stdout",
     "output_type": "stream",
     "text": [
      "At the optimum,\n",
      " rc(m=1,n=1) =  0.031152203932509667\n",
      " zs(m=1,n=1) =  -0.031149613082043764\n",
      " volume, according to VMEC    =  0.1782375723663839\n",
      " volume, according to Surface =  0.1782375723663835\n",
      " iota on axis =  0.41144628797201466\n",
      " objective function =  0.0007994522420447627\n"
     ]
    }
   ],
   "source": [
    "print(\"At the optimum,\")\n",
    "print(\" rc(m=1,n=1) = \", surf.get_rc(1, 1))\n",
    "print(\" zs(m=1,n=1) = \", surf.get_zs(1, 1))\n",
    "print(\" volume, according to VMEC    = \", equil.volume())\n",
    "print(\" volume, according to Surface = \", surf.volume())\n",
    "print(\" iota on axis = \", equil.iota_axis())\n",
    "print(\" objective function = \", prob.objective())"
   ]
  },
  {
   "cell_type": "markdown",
   "metadata": {},
   "source": [
    "This solution matches the description in https://github.com/landreman/stellopt_scenarios/tree/master/2DOF_vmecOnly_targetIotaAndVolume . We can do some asserts to be sure:"
   ]
  },
  {
   "cell_type": "code",
   "execution_count": 10,
   "metadata": {},
   "outputs": [],
   "source": [
    "assert np.abs(surf.get_rc(1, 1) - 0.0313066948) < 1.0e-3\n",
    "assert np.abs(surf.get_zs(1, 1) - (-0.031232391)) < 1.0e-3\n",
    "assert np.abs(equil.volume() - 0.178091) < 1.0e-3\n",
    "assert np.abs(surf.volume()  - 0.178091) < 1.0e-3\n",
    "assert np.abs(equil.iota_axis() - 0.4114567) < 1.0e-4\n",
    "assert prob.objective() < 1.0e-2"
   ]
  }
 ],
 "metadata": {
  "kernelspec": {
   "display_name": "Python 3",
   "language": "python",
   "name": "python3"
  },
  "language_info": {
   "codemirror_mode": {
    "name": "ipython",
    "version": 3
   },
   "file_extension": ".py",
   "mimetype": "text/x-python",
   "name": "python",
   "nbconvert_exporter": "python",
   "pygments_lexer": "ipython3",
   "version": "3.8.5"
  }
 },
 "nbformat": 4,
 "nbformat_minor": 4
}
